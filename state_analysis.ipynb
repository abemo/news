{
 "cells": [
  {
   "cell_type": "code",
   "execution_count": 16,
   "id": "6299dbd6",
   "metadata": {},
   "outputs": [
    {
     "name": "stdout",
     "output_type": "stream",
     "text": [
      "<class 'pandas.core.frame.DataFrame'>\n",
      "   Year    State   LJE  TurnoutPercent\n",
      "0  2000  Alabama  40.0           0.516\n",
      "1  2020  Alabama   8.4           0.618\n",
      "2  2000   Alaska  40.0           0.681\n",
      "3  2020   Alaska  13.4           0.681\n",
      "4  2000  Arizona  40.0           0.456\n",
      "(102, 4)\n"
     ]
    }
   ],
   "source": [
    "import pandas as pd\n",
    "# because of the funky-ness of the datasets, let's use another dataset and look at state level data\n",
    "# using state level data from https://www.electproject.org/election-data/voter-turnout-data \n",
    "\n",
    "state_data_2000 = pd.read_excel('state_vote_data.xlsx', sheet_name='state_votes_2000')\n",
    "state_data_2020 = pd.read_excel('state_vote_data.xlsx', sheet_name='state_votes_2020')\n",
    "\n",
    "# we will assume that the LJE for each state in 2000 is 40\n",
    "# we will use the LJE from 2024 for the 2020 data \"Statewide LJEs per population\" column\n",
    "state_news_data = pd.read_excel('news.xlsx', sheet_name='state data')\n",
    "state_news_data = state_news_data[['State', 'Statewide LJEs per population']]\n",
    "\n",
    "# ensure all states in the state_news_data are present in the state_data_2000 and state_data_2020\n",
    "states_2000 = set(state_data_2000['State'])\n",
    "states_2020 = set(state_data_2020['State'])\n",
    "states_news = set(state_news_data['State'])\n",
    "assert states_2000 == states_news, \"States in 2000 data do not match news data\"\n",
    "assert states_2000 == states_2020, \"States in 2000 data do not match 2020 data\"\n",
    "assert states_2020 == states_news, \"States in 2020 data do not match news data\"\n",
    "\n",
    "turnout_and_LJE_by_year = pd.DataFrame(columns=['Year', 'State', 'LJE', 'TurnoutPercent'])\n",
    "LJE_2000 = 40\n",
    "    \n",
    "for state in state_news_data['State']:\n",
    "    LJE_2020 = state_news_data.loc[state_news_data['State'] == state, 'Statewide LJEs per population'].values[0]\n",
    "    \n",
    "    turnout_2000 = state_data_2000.loc[state_data_2000['State'] == state, 'Turnout Rate'].values[0]\n",
    "    turnout_2020 = state_data_2020.loc[state_data_2020['State'] == state, 'Turnout Rate'].values[0]\n",
    "\n",
    "    turnout_and_LJE_by_year.loc[len(turnout_and_LJE_by_year)] = {\n",
    "        'Year': 2000,\n",
    "        'State': state,\n",
    "        'LJE': LJE_2000,\n",
    "        'TurnoutPercent': turnout_2000\n",
    "    }\n",
    "    \n",
    "    turnout_and_LJE_by_year.loc[len(turnout_and_LJE_by_year)] = {\n",
    "        'Year': 2020,\n",
    "        'State': state,\n",
    "        'LJE': LJE_2020,\n",
    "        'TurnoutPercent': turnout_2020\n",
    "    }\n",
    "\n",
    "print(type(turnout_and_LJE_by_year))\n",
    "print(turnout_and_LJE_by_year.head())\n",
    "print(turnout_and_LJE_by_year.shape)"
   ]
  },
  {
   "cell_type": "code",
   "execution_count": 20,
   "id": "a170f521",
   "metadata": {},
   "outputs": [
    {
     "name": "stdout",
     "output_type": "stream",
     "text": [
      "Pearson correlation (2020): 0.07290748528502194\n"
     ]
    },
    {
     "data": {
      "text/plain": [
       "<Axes: xlabel='LJE', ylabel='TurnoutPercent'>"
      ]
     },
     "execution_count": 20,
     "metadata": {},
     "output_type": "execute_result"
    },
    {
     "data": {
      "image/png": "[encoded data removed]",
      "text/plain": [
       "<Figure size 640x480 with 1 Axes>"
      ]
     },
     "metadata": {},
     "output_type": "display_data"
    }
   ],
   "source": [
    "import seaborn as sns\n",
    "\n",
    "# Filter for 2020 data\n",
    "data_2020 = turnout_and_LJE_by_year[turnout_and_LJE_by_year['Year'] == 2020]\n",
    "\n",
    "# Calculate Pearson correlation\n",
    "correlation_value = data_2020['LJE'].corr(data_2020['TurnoutPercent'])\n",
    "\n",
    "print(\"Pearson correlation (2020):\", correlation_value)\n",
    "\n",
    "# Plot LJE vs TurnoutPercent for 2020\n",
    "sns.scatterplot(x='LJE', y='TurnoutPercent', data=data_2020)"
   ]
  },
  {
   "cell_type": "code",
   "execution_count": null,
   "id": "ade8471e",
   "metadata": {},
   "outputs": [],
   "source": [
    "# for each state, does the change in LJE from 2000 to 2020 correlate with the change in turnout rate?\n",
    "state_news_data['LJE Change'] = state_news_data['Statewide LJEs per population'] - 40\n",
    "state_news_data['Turnout Change'] = state_data_2020['Turnout Rate'] - state_data_2000['Turnout Rate']\n",
    "\n",
    "# correlate the change in LJE with the change in turnout rate\n",
    "correlation = state_news_data[['LJE Change', 'Turnout Change']].corr().iloc[0, 1]\n",
    "\n",
    "print(\"Correlation between change in LJE and change in turnout rate:\", correlation)\n",
    "sns.scatterplot(x='LJE Change', y='Turnout Change', data=state_news_data)\n",
    "sns.regplot(x='LJE Change', y='Turnout Change', data=state_news_data, scatter=False, color='red')\n",
    "sns.set_theme(style=\"whitegrid\")"
   ]
  }
 ],
 "metadata": {
  "kernelspec": {
   "display_name": "venv",
   "language": "python",
   "name": "python3"
  },
  "language_info": {
   "codemirror_mode": {
    "name": "ipython",
    "version": 3
   },
   "file_extension": ".py",
   "mimetype": "text/x-python",
   "name": "python",
   "nbconvert_exporter": "python",
   "pygments_lexer": "ipython3",
   "version": "3.13.2"
  }
 },
 "nbformat": 4,
 "nbformat_minor": 5
}
